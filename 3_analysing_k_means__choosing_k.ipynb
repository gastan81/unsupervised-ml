{
  "cells": [
    {
      "cell_type": "markdown",
      "metadata": {
        "colab_type": "text",
        "id": "view-in-github"
      },
      "source": [
        "<a href=\"https://colab.research.google.com/github/gastan81/unsupervised-ml/blob/main/3_analysing_k_means__choosing_k.ipynb\" target=\"_parent\"><img src=\"https://colab.research.google.com/assets/colab-badge.svg\" alt=\"Open In Colab\"/></a>"
      ]
    },
    {
      "cell_type": "markdown",
      "metadata": {
        "id": "8g5SPWMyiLtN"
      },
      "source": [
        "# Analysing k-means: estimating the numbers of clusters\n",
        "The number of clusters (k) is an important parameter for KMeans clustering. If k is too small, the clusters will be too large and will not accurately capture the underlying structure of the data. If k is too large, the clusters will be too small and will not be meaningful.\n",
        "\n",
        "The inertia elbow method and the silhouette score are two popular methods for estimating the optimal number of clusters for KMeans. In this notebook, we will learn how to use both of these methods."
      ]
    },
    {
      "cell_type": "markdown",
      "metadata": {
        "id": "xJrChU7o8eIU"
      },
      "source": [
        "---\n",
        "## 1.&nbsp; Import libraries and files 💾"
      ]
    },
    {
      "cell_type": "code",
      "execution_count": 1,
      "metadata": {
        "id": "d5szg7CJ8IK4"
      },
      "outputs": [],
      "source": [
        "import pandas as pd\n",
        "\n",
        "from sklearn.preprocessing import MinMaxScaler\n",
        "from sklearn.cluster import KMeans\n",
        "from sklearn.metrics import silhouette_score\n",
        "\n",
        "import seaborn as sns\n",
        "import plotly.graph_objects as go"
      ]
    },
    {
      "cell_type": "code",
      "execution_count": 2,
      "metadata": {
        "id": "779-V98w8slr"
      },
      "outputs": [],
      "source": [
        "# Get the spreadsheet ID and name\n",
        "sheet_id = \"1gYXqOBLEYIr99YmKGq2nIvK3CJmoWzsvwfwR9adfo2w\"\n",
        "sheet_name = \"18136796\"\n",
        "\n",
        "# Construct the URL to the CSV export of the spreadsheet\n",
        "url = f\"https://docs.google.com/spreadsheets/d/{sheet_id}/export?format=csv&gid={sheet_name}\"\n",
        "\n",
        "# Read the CSV data into a Pandas DataFrame\n",
        "# Set the index column to `student` and only read the first 15 rows\n",
        "foods_df = pd.read_csv(url,\n",
        "                       index_col=\"student\")\n",
        "\n",
        "# Drop the `favorite_color` column\n",
        "foods_df = foods_df.drop(columns=\"favorite_color\")"
      ]
    },
    {
      "cell_type": "markdown",
      "metadata": {
        "id": "LOeo-RpZ87tE"
      },
      "source": [
        "---\n",
        "## 2.&nbsp; Scale the data 📐\n",
        "In this notebook, we are only using the MinMaxScaler to keep the code simple and focus on the inertia and silhouette scores. However, we encourage you to experiment with other scalers, as they can have a impact."
      ]
    },
    {
      "cell_type": "code",
      "execution_count": 3,
      "metadata": {
        "id": "z_sR6bNp8s3E"
      },
      "outputs": [],
      "source": [
        "# Initialise the transformer (optionally, set parameters)\n",
        "my_min_max = MinMaxScaler().set_output(transform=\"pandas\")\n",
        "\n",
        "# Use the transformer to transform the data\n",
        "scaled_features_df = my_min_max.fit_transform(foods_df)"
      ]
    },
    {
      "cell_type": "markdown",
      "metadata": {
        "id": "VN2TT0OCuZPW"
      },
      "source": [
        "---\n",
        "## 3.&nbsp; Estimate the number of clusters (k) 🔢"
      ]
    },
    {
      "cell_type": "markdown",
      "metadata": {
        "id": "gRyU51AqflMB"
      },
      "source": [
        "### 3.1.&nbsp; Inertia and the elbow method\n",
        "\n",
        "In clustering, inertia is a measure of how well data points fit into their assigned clusters. Lower inertia indicates a better fit. However, minimising inertia alone can lead to meaningless clusters, with each data point in its own cluster.\n",
        "\n",
        "The elbow method is a visual aid for identifying the optimal number of clusters. It plots inertia values for different cluster numbers, revealing an \"elbow\" where the inertia reduction begins to plateau. This plateau indicates that reducing inertia further has little impact on cluster quality."
      ]
    },
    {
      "cell_type": "markdown",
      "metadata": {
        "id": "aw_CtLgKol_n"
      },
      "source": [
        "To find the inertia score for our clusters, we can use the [KMeans attribute ](https://scikit-learn.org/stable/modules/generated/sklearn.cluster.KMeans.html)`.inertia_`.\n",
        "\n",
        "We will cluster our food preferences data multiple times, starting with 1 cluster and increasing the number of clusters by 1 each time until we reach `max_k`. We will store the inertia score for each clustering in a list.\n",
        "\n",
        "Once we've calculated the inertia scores for all values of k, we'll plot them on a line chart. We'll then look for the \"elbow\" in the line chart. The elbow is the point where the inertia score starts to plateau, indicating that adding more clusters is not significantly improving the quality of the clustering."
      ]
    },
    {
      "cell_type": "code",
      "execution_count": 4,
      "metadata": {
        "id": "VRNfWJXT7BdM",
        "outputId": "f78cec98-a916-424e-d37d-77d6cd3252ac"
      },
      "outputs": [
        {
          "name": "stderr",
          "output_type": "stream",
          "text": [
            "c:\\ProgramData\\anaconda3\\Lib\\site-packages\\sklearn\\cluster\\_kmeans.py:1446: UserWarning: KMeans is known to have a memory leak on Windows with MKL, when there are less chunks than available threads. You can avoid it by setting the environment variable OMP_NUM_THREADS=1.\n",
            "  warnings.warn(\n",
            "c:\\ProgramData\\anaconda3\\Lib\\site-packages\\sklearn\\cluster\\_kmeans.py:1446: UserWarning: KMeans is known to have a memory leak on Windows with MKL, when there are less chunks than available threads. You can avoid it by setting the environment variable OMP_NUM_THREADS=1.\n",
            "  warnings.warn(\n",
            "c:\\ProgramData\\anaconda3\\Lib\\site-packages\\sklearn\\cluster\\_kmeans.py:1446: UserWarning: KMeans is known to have a memory leak on Windows with MKL, when there are less chunks than available threads. You can avoid it by setting the environment variable OMP_NUM_THREADS=1.\n",
            "  warnings.warn(\n",
            "c:\\ProgramData\\anaconda3\\Lib\\site-packages\\sklearn\\cluster\\_kmeans.py:1446: UserWarning: KMeans is known to have a memory leak on Windows with MKL, when there are less chunks than available threads. You can avoid it by setting the environment variable OMP_NUM_THREADS=1.\n",
            "  warnings.warn(\n",
            "c:\\ProgramData\\anaconda3\\Lib\\site-packages\\sklearn\\cluster\\_kmeans.py:1446: UserWarning: KMeans is known to have a memory leak on Windows with MKL, when there are less chunks than available threads. You can avoid it by setting the environment variable OMP_NUM_THREADS=1.\n",
            "  warnings.warn(\n",
            "c:\\ProgramData\\anaconda3\\Lib\\site-packages\\sklearn\\cluster\\_kmeans.py:1446: UserWarning: KMeans is known to have a memory leak on Windows with MKL, when there are less chunks than available threads. You can avoid it by setting the environment variable OMP_NUM_THREADS=1.\n",
            "  warnings.warn(\n",
            "c:\\ProgramData\\anaconda3\\Lib\\site-packages\\sklearn\\cluster\\_kmeans.py:1446: UserWarning: KMeans is known to have a memory leak on Windows with MKL, when there are less chunks than available threads. You can avoid it by setting the environment variable OMP_NUM_THREADS=1.\n",
            "  warnings.warn(\n",
            "c:\\ProgramData\\anaconda3\\Lib\\site-packages\\sklearn\\cluster\\_kmeans.py:1446: UserWarning: KMeans is known to have a memory leak on Windows with MKL, when there are less chunks than available threads. You can avoid it by setting the environment variable OMP_NUM_THREADS=1.\n",
            "  warnings.warn(\n",
            "c:\\ProgramData\\anaconda3\\Lib\\site-packages\\sklearn\\cluster\\_kmeans.py:1446: UserWarning: KMeans is known to have a memory leak on Windows with MKL, when there are less chunks than available threads. You can avoid it by setting the environment variable OMP_NUM_THREADS=1.\n",
            "  warnings.warn(\n",
            "c:\\ProgramData\\anaconda3\\Lib\\site-packages\\sklearn\\cluster\\_kmeans.py:1446: UserWarning: KMeans is known to have a memory leak on Windows with MKL, when there are less chunks than available threads. You can avoid it by setting the environment variable OMP_NUM_THREADS=1.\n",
            "  warnings.warn(\n",
            "c:\\ProgramData\\anaconda3\\Lib\\site-packages\\sklearn\\cluster\\_kmeans.py:1446: UserWarning: KMeans is known to have a memory leak on Windows with MKL, when there are less chunks than available threads. You can avoid it by setting the environment variable OMP_NUM_THREADS=1.\n",
            "  warnings.warn(\n",
            "c:\\ProgramData\\anaconda3\\Lib\\site-packages\\sklearn\\cluster\\_kmeans.py:1446: UserWarning: KMeans is known to have a memory leak on Windows with MKL, when there are less chunks than available threads. You can avoid it by setting the environment variable OMP_NUM_THREADS=1.\n",
            "  warnings.warn(\n"
          ]
        }
      ],
      "source": [
        "# Decide on a random_state to use\n",
        "seed = 123\n",
        "\n",
        "# Set the maximum number of clusters to try\n",
        "max_k = 12\n",
        "\n",
        "# Create an empty list to store the inertia scores\n",
        "inertia_list = []\n",
        "\n",
        "# Iterate over the range of cluster numbers\n",
        "for i in range(1, max_k + 1):\n",
        "\n",
        "    # Create a KMeans object with the specified number of clusters\n",
        "    myKMeans = KMeans(n_clusters = i,\n",
        "                      n_init = \"auto\",\n",
        "                      random_state = seed)\n",
        "\n",
        "    # Fit the KMeans model to the scaled data\n",
        "    myKMeans.fit(scaled_features_df)\n",
        "\n",
        "    # Append the inertia score to the list\n",
        "    inertia_list.append(myKMeans.inertia_)"
      ]
    },
    {
      "cell_type": "code",
      "execution_count": 5,
      "metadata": {
        "colab": {
          "base_uri": "https://localhost:8080/",
          "height": 549
        },
        "id": "mXtq4WkxwlzV",
        "outputId": "e7a45142-d889-4e77-b14e-9f6bb7261811"
      },
      "outputs": [
        {
          "data": {
            "image/png": "[encoded data removed]",
            "text/plain": [
              "<Figure size 1600x800 with 1 Axes>"
            ]
          },
          "metadata": {},
          "output_type": "display_data"
        }
      ],
      "source": [
        "# Set the Seaborn theme to darkgrid\n",
        "sns.set_theme(style='darkgrid')\n",
        "\n",
        "(\n",
        "# Create a line plot of the inertia scores\n",
        "sns.relplot(y = inertia_list,\n",
        "            x = range(1, max_k + 1),\n",
        "            kind = 'line',\n",
        "            marker = 'o',\n",
        "            height = 8,\n",
        "            aspect = 2)\n",
        "# Set the title of the plot\n",
        ".set(title=f\"Inertia score from 1 to {max_k} clusters\")\n",
        "# Set the axis labels\n",
        ".set_axis_labels(\"Number of clusters\", \"Inertia score\")\n",
        ");"
      ]
    },
    {
      "cell_type": "markdown",
      "metadata": {
        "id": "kGIXe8ls4yoQ"
      },
      "source": [
        "Where the elbow lies is not always clear - it's up to you to decide, you're the data scientist. If there are multiple points where you believe the elbow could be, use your knowledge of the business case to inform your decision. How many data points do you have? How many would be in a cluster if you chose this number of clusters? What is the point of making these clusters? Is there a logical number of clusters, where if you make more clusters they just become too small for your business case?\n",
        "> The elbow method is a heuristic, meaning that it is not guaranteed to find the optimal number of clusters in all cases."
      ]
    },
    {
      "cell_type": "markdown",
      "metadata": {
        "id": "U9HokpG4zZit"
      },
      "source": [
        "### 3.2.&nbsp; The silhouette score\n",
        "The silhouette score is another metric for evaluating the quality of clustering results. It measures how well each data point is assigned to its cluster, taking into account the distance to other clusters. The silhouette score ranges from -1 to 1, with higher scores indicating better clustering.\n",
        "\n",
        "The silhouette score can be used to identify the optimal number of clusters by clustering the data with different numbers of clusters and selecting the number of clusters that has the highest the silhouette score.\n",
        "\n",
        "To calculate the silhouette score we'll use the [SKLearn function ](https://scikit-learn.org/stable/modules/generated/sklearn.metrics.silhouette_score.html)`silhouette_score`."
      ]
    },
    {
      "cell_type": "code",
      "execution_count": null,
      "metadata": {
        "id": "Bfh1wB4B0GdL",
        "outputId": "9df5e4cf-ec9e-4d23-f870-92258a04ab15"
      },
      "outputs": [
        {
          "name": "stderr",
          "output_type": "stream",
          "text": [
            "c:\\Users\\chris\\miniconda3\\envs\\stp\\Lib\\site-packages\\sklearn\\cluster\\_kmeans.py:1382: UserWarning: KMeans is known to have a memory leak on Windows with MKL, when there are less chunks than available threads. You can avoid it by setting the environment variable OMP_NUM_THREADS=1.\n",
            "  warnings.warn(\n",
            "c:\\Users\\chris\\miniconda3\\envs\\stp\\Lib\\site-packages\\sklearn\\cluster\\_kmeans.py:1382: UserWarning: KMeans is known to have a memory leak on Windows with MKL, when there are less chunks than available threads. You can avoid it by setting the environment variable OMP_NUM_THREADS=1.\n",
            "  warnings.warn(\n",
            "c:\\Users\\chris\\miniconda3\\envs\\stp\\Lib\\site-packages\\sklearn\\cluster\\_kmeans.py:1382: UserWarning: KMeans is known to have a memory leak on Windows with MKL, when there are less chunks than available threads. You can avoid it by setting the environment variable OMP_NUM_THREADS=1.\n",
            "  warnings.warn(\n",
            "c:\\Users\\chris\\miniconda3\\envs\\stp\\Lib\\site-packages\\sklearn\\cluster\\_kmeans.py:1382: UserWarning: KMeans is known to have a memory leak on Windows with MKL, when there are less chunks than available threads. You can avoid it by setting the environment variable OMP_NUM_THREADS=1.\n",
            "  warnings.warn(\n",
            "c:\\Users\\chris\\miniconda3\\envs\\stp\\Lib\\site-packages\\sklearn\\cluster\\_kmeans.py:1382: UserWarning: KMeans is known to have a memory leak on Windows with MKL, when there are less chunks than available threads. You can avoid it by setting the environment variable OMP_NUM_THREADS=1.\n",
            "  warnings.warn(\n",
            "c:\\Users\\chris\\miniconda3\\envs\\stp\\Lib\\site-packages\\sklearn\\cluster\\_kmeans.py:1382: UserWarning: KMeans is known to have a memory leak on Windows with MKL, when there are less chunks than available threads. You can avoid it by setting the environment variable OMP_NUM_THREADS=1.\n",
            "  warnings.warn(\n",
            "c:\\Users\\chris\\miniconda3\\envs\\stp\\Lib\\site-packages\\sklearn\\cluster\\_kmeans.py:1382: UserWarning: KMeans is known to have a memory leak on Windows with MKL, when there are less chunks than available threads. You can avoid it by setting the environment variable OMP_NUM_THREADS=1.\n",
            "  warnings.warn(\n",
            "c:\\Users\\chris\\miniconda3\\envs\\stp\\Lib\\site-packages\\sklearn\\cluster\\_kmeans.py:1382: UserWarning: KMeans is known to have a memory leak on Windows with MKL, when there are less chunks than available threads. You can avoid it by setting the environment variable OMP_NUM_THREADS=1.\n",
            "  warnings.warn(\n",
            "c:\\Users\\chris\\miniconda3\\envs\\stp\\Lib\\site-packages\\sklearn\\cluster\\_kmeans.py:1382: UserWarning: KMeans is known to have a memory leak on Windows with MKL, when there are less chunks than available threads. You can avoid it by setting the environment variable OMP_NUM_THREADS=1.\n",
            "  warnings.warn(\n",
            "c:\\Users\\chris\\miniconda3\\envs\\stp\\Lib\\site-packages\\sklearn\\cluster\\_kmeans.py:1382: UserWarning: KMeans is known to have a memory leak on Windows with MKL, when there are less chunks than available threads. You can avoid it by setting the environment variable OMP_NUM_THREADS=1.\n",
            "  warnings.warn(\n"
          ]
        }
      ],
      "source": [
        "# Set the maximum number of clusters to try\n",
        "max_k = 12\n",
        "\n",
        "# Create an empty list to store the silhouette scores\n",
        "sil_scores = []\n",
        "\n",
        "\n",
        "for j in range(2, max_k):\n",
        "\n",
        "    # Create a KMeans object with the specified number of clusters\n",
        "    kmeans = KMeans(n_clusters = j,\n",
        "                    n_init = \"auto\",\n",
        "                    random_state = seed)\n",
        "\n",
        "    # Fit the KMeans model to the scaled data\n",
        "    kmeans.fit(scaled_features_df)\n",
        "\n",
        "    # Get the cluster labels\n",
        "    labels = kmeans.labels_\n",
        "\n",
        "    # Calculate the silhouette score\n",
        "    score = silhouette_score(scaled_features_df, labels)\n",
        "\n",
        "    # Append the silhouette score to the list\n",
        "    sil_scores.append(score)"
      ]
    },
    {
      "cell_type": "code",
      "execution_count": null,
      "metadata": {
        "colab": {
          "base_uri": "https://localhost:8080/",
          "height": 549
        },
        "id": "xY-mvnQP2xkb",
        "outputId": "8b9829d5-f464-454a-a7f9-9bb1c3e84a9c"
      },
      "outputs": [
        {
          "name": "stderr",
          "output_type": "stream",
          "text": [
            "c:\\Users\\chris\\miniconda3\\envs\\stp\\Lib\\site-packages\\seaborn\\_oldcore.py:1119: FutureWarning: use_inf_as_na option is deprecated and will be removed in a future version. Convert inf values to NaN before operating instead.\n",
            "  with pd.option_context('mode.use_inf_as_na', True):\n",
            "c:\\Users\\chris\\miniconda3\\envs\\stp\\Lib\\site-packages\\seaborn\\_oldcore.py:1119: FutureWarning: use_inf_as_na option is deprecated and will be removed in a future version. Convert inf values to NaN before operating instead.\n",
            "  with pd.option_context('mode.use_inf_as_na', True):\n"
          ]
        },
        {
          "data": {
            "image/png": "[encoded data removed]",
            "text/plain": [
              "<Figure size 1600x800 with 1 Axes>"
            ]
          },
          "metadata": {},
          "output_type": "display_data"
        }
      ],
      "source": [
        "(\n",
        "sns.relplot(y = sil_scores,\n",
        "            x = range(2, max_k),\n",
        "            kind = 'line',\n",
        "            marker = 'o',\n",
        "            height = 8,\n",
        "            aspect = 2)\n",
        ".set(title=f\"Silhouette score from 2 to {max_k - 1} clusters\")\n",
        ".set_axis_labels(\"Number of clusters\", \"Silhouette score\")\n",
        ");"
      ]
    },
    {
      "cell_type": "markdown",
      "metadata": {
        "id": "XxqqembhYJ3W"
      },
      "source": [
        "To determine the optimal number of clusters, we can look for the highest silhouette score. This score measures how well each point is assigned to its cluster, with higher scores indicating better clustering.\n",
        "\n",
        "However, the highest silhouette score may not always be the best choice. For example, if the score is very high for a large number of clusters, it may be a sign that the clusters are too finely grained and that we are overfitting the data.\n",
        "\n",
        "In addition, we should consider our business objectives and the data we are using. For example, if we are clustering customers based on their purchase history, we may want to choose a smaller number of clusters so that we can easily identify different customer segments.\n",
        "\n",
        "Therefore, it's important to use the silhouette score in conjunction with other methods, such as the elbow method, and to consider our business objectives and the data we are using when choosing the optimal number of clusters.\n",
        "> You can also experiment with different values for random_state. It's possible that you got a \"bad seed\" and this is leading to misleading results. Make sure to use the same random_state for both the inertia and silhouette methods so that you are comparing the same clusters."
      ]
    },
    {
      "cell_type": "markdown",
      "metadata": {
        "id": "QIOS7LQQd4DP"
      },
      "source": [
        "---\n",
        "## 4.&nbsp; Explore the cluster means 🗺️"
      ]
    },
    {
      "cell_type": "markdown",
      "metadata": {
        "id": "oZnHMrWFeitU"
      },
      "source": [
        "#### 4.1.&nbsp; Column averages\n",
        "By grouping the clusters and looking at the average score for each column, you can learn more about the different groups of students and their food preferences. For example, you might find that one group of students prefers healthy foods like broccoli and peas, while another group prefers more processed foods like hamburgers. You might also find that some groups of students have a more diverse range of food preferences than others."
      ]
    },
    {
      "cell_type": "code",
      "execution_count": null,
      "metadata": {
        "colab": {
          "base_uri": "https://localhost:8080/"
        },
        "id": "zmGm223ie2Yn",
        "outputId": "ce470ff2-b99a-403b-ed83-1e8057f488f4"
      },
      "outputs": [
        {
          "name": "stderr",
          "output_type": "stream",
          "text": [
            "c:\\Users\\chris\\miniconda3\\envs\\stp\\Lib\\site-packages\\sklearn\\cluster\\_kmeans.py:870: FutureWarning: The default value of `n_init` will change from 10 to 'auto' in 1.4. Set the value of `n_init` explicitly to suppress the warning\n",
            "  warnings.warn(\n",
            "c:\\Users\\chris\\miniconda3\\envs\\stp\\Lib\\site-packages\\sklearn\\cluster\\_kmeans.py:1382: UserWarning: KMeans is known to have a memory leak on Windows with MKL, when there are less chunks than available threads. You can avoid it by setting the environment variable OMP_NUM_THREADS=1.\n",
            "  warnings.warn(\n"
          ]
        }
      ],
      "source": [
        "# Initialise the model\n",
        "my_kmeans = KMeans(n_clusters = 5, # you always choose the number of k here\n",
        "                   random_state = 123)\n",
        "\n",
        "# Fit the model to the data\n",
        "my_kmeans.fit(scaled_features_df)\n",
        "\n",
        "# Obtain the cluster output\n",
        "clusters = my_kmeans.labels_\n",
        "\n",
        "# Attach the cluster output to our original DataFrame\n",
        "scaled_features_df[\"cluster\"] = clusters"
      ]
    },
    {
      "cell_type": "code",
      "execution_count": null,
      "metadata": {
        "colab": {
          "base_uri": "https://localhost:8080/",
          "height": 255
        },
        "id": "VD-mwfpgFM6w",
        "outputId": "804bd5bc-bc86-4904-c8d5-41ce70b7bfed"
      },
      "outputs": [
        {
          "data": {
            "text/html": [
              "<div>\n",
              "<style scoped>\n",
              "    .dataframe tbody tr th:only-of-type {\n",
              "        vertical-align: middle;\n",
              "    }\n",
              "\n",
              "    .dataframe tbody tr th {\n",
              "        vertical-align: top;\n",
              "    }\n",
              "\n",
              "    .dataframe thead th {\n",
              "        text-align: right;\n",
              "    }\n",
              "</style>\n",
              "<table border=\"1\" class=\"dataframe\">\n",
              "  <thead>\n",
              "    <tr style=\"text-align: right;\">\n",
              "      <th></th>\n",
              "      <th>broccoli</th>\n",
              "      <th>brussels_sprouts</th>\n",
              "      <th>hamburger (meat)</th>\n",
              "      <th>oysters (raw)</th>\n",
              "      <th>onion (raw)</th>\n",
              "      <th>peas</th>\n",
              "      <th>olives</th>\n",
              "      <th>blue_cheese</th>\n",
              "      <th>whisky</th>\n",
              "      <th>age</th>\n",
              "    </tr>\n",
              "    <tr>\n",
              "      <th>cluster</th>\n",
              "      <th></th>\n",
              "      <th></th>\n",
              "      <th></th>\n",
              "      <th></th>\n",
              "      <th></th>\n",
              "      <th></th>\n",
              "      <th></th>\n",
              "      <th></th>\n",
              "      <th></th>\n",
              "      <th></th>\n",
              "    </tr>\n",
              "  </thead>\n",
              "  <tbody>\n",
              "    <tr>\n",
              "      <th>0</th>\n",
              "      <td>0.785714</td>\n",
              "      <td>0.800000</td>\n",
              "      <td>0.900000</td>\n",
              "      <td>0.000000</td>\n",
              "      <td>0.150000</td>\n",
              "      <td>0.800000</td>\n",
              "      <td>1.000000</td>\n",
              "      <td>0.850000</td>\n",
              "      <td>0.65</td>\n",
              "      <td>0.671875</td>\n",
              "    </tr>\n",
              "    <tr>\n",
              "      <th>1</th>\n",
              "      <td>0.642857</td>\n",
              "      <td>0.000000</td>\n",
              "      <td>0.250000</td>\n",
              "      <td>0.000000</td>\n",
              "      <td>0.150000</td>\n",
              "      <td>0.300000</td>\n",
              "      <td>0.250000</td>\n",
              "      <td>0.000000</td>\n",
              "      <td>0.10</td>\n",
              "      <td>0.164062</td>\n",
              "    </tr>\n",
              "    <tr>\n",
              "      <th>2</th>\n",
              "      <td>0.571429</td>\n",
              "      <td>0.500000</td>\n",
              "      <td>0.100000</td>\n",
              "      <td>0.150000</td>\n",
              "      <td>0.550000</td>\n",
              "      <td>0.750000</td>\n",
              "      <td>0.625000</td>\n",
              "      <td>0.375000</td>\n",
              "      <td>0.35</td>\n",
              "      <td>0.152344</td>\n",
              "    </tr>\n",
              "    <tr>\n",
              "      <th>3</th>\n",
              "      <td>1.000000</td>\n",
              "      <td>1.000000</td>\n",
              "      <td>1.000000</td>\n",
              "      <td>1.000000</td>\n",
              "      <td>1.000000</td>\n",
              "      <td>0.400000</td>\n",
              "      <td>0.333333</td>\n",
              "      <td>1.000000</td>\n",
              "      <td>0.00</td>\n",
              "      <td>0.078125</td>\n",
              "    </tr>\n",
              "    <tr>\n",
              "      <th>4</th>\n",
              "      <td>0.095238</td>\n",
              "      <td>0.433333</td>\n",
              "      <td>0.833333</td>\n",
              "      <td>0.733333</td>\n",
              "      <td>0.766667</td>\n",
              "      <td>0.533333</td>\n",
              "      <td>0.777778</td>\n",
              "      <td>0.833333</td>\n",
              "      <td>0.80</td>\n",
              "      <td>0.317708</td>\n",
              "    </tr>\n",
              "  </tbody>\n",
              "</table>\n",
              "</div>"
            ],
            "text/plain": [
              "         broccoli  brussels_sprouts  hamburger (meat)  oysters (raw)  \\\n",
              "cluster                                                                \n",
              "0        0.785714          0.800000          0.900000       0.000000   \n",
              "1        0.642857          0.000000          0.250000       0.000000   \n",
              "2        0.571429          0.500000          0.100000       0.150000   \n",
              "3        1.000000          1.000000          1.000000       1.000000   \n",
              "4        0.095238          0.433333          0.833333       0.733333   \n",
              "\n",
              "          onion (raw)      peas    olives  blue_cheese  whisky       age  \n",
              "cluster                                                                   \n",
              "0            0.150000  0.800000  1.000000     0.850000    0.65  0.671875  \n",
              "1            0.150000  0.300000  0.250000     0.000000    0.10  0.164062  \n",
              "2            0.550000  0.750000  0.625000     0.375000    0.35  0.152344  \n",
              "3            1.000000  0.400000  0.333333     1.000000    0.00  0.078125  \n",
              "4            0.766667  0.533333  0.777778     0.833333    0.80  0.317708  "
            ]
          },
          "execution_count": 9,
          "metadata": {},
          "output_type": "execute_result"
        }
      ],
      "source": [
        "scaled_features_df.groupby(by=\"cluster\").mean()"
      ]
    },
    {
      "cell_type": "markdown",
      "metadata": {
        "id": "de1aGl8We6cb"
      },
      "source": [
        "#### 4.2.&nbsp; Radar chart\n",
        "Having calculated the average score for each food by cluster, we now have a matrix that we can analyse. However, as data scientists with coding skills, we can visualise this information to gain a clearer understanding of why certain people are clustered together and why others aren't.\n",
        "\n",
        "Visualising the data can help us to identify patterns and trends that would be difficult to see in a matrix. For example, we might be able to see that certain foods are consistently grouped together, while others are more spread out. This could suggest that there are different subgroups of students with different dietary preferences.\n",
        "\n",
        "We can also use visualisation to identify outliers. For example, we might find a few students who have very different food preferences than the rest of the group. This could be due to a variety of factors, such as cultural background, medical conditions, or personal preferences."
      ]
    },
    {
      "cell_type": "code",
      "execution_count": null,
      "metadata": {
        "colab": {
          "base_uri": "https://localhost:8080/",
          "height": 617
        },
        "id": "_SF_GqPaesBd",
        "outputId": "ada9f91e-3b67-48f1-c203-bbf3ddc81d42"
      },
      "outputs": [
        {
          "data": {
            "application/vnd.plotly.v1+json": {
              "config": {
                "plotlyServerURL": "https://plot.ly"
              },
              "data": [
                {
                  "fill": "toself",
                  "name": "Cluster 0",
                  "r": [
                    0.7857142857142856,
                    0.8,
                    0.9,
                    0,
                    0.15000000000000002,
                    0.8,
                    0.9999999999999999,
                    0.8500000000000001,
                    0.65,
                    0.671875
                  ],
                  "theta": [
                    "broccoli",
                    "brussels_sprouts",
                    "hamburger (meat)",
                    "oysters (raw)",
                    " onion (raw)",
                    "peas",
                    "olives",
                    "blue_cheese",
                    "whisky",
                    "age",
                    "cluster"
                  ],
                  "type": "scatterpolar"
                },
                {
                  "fill": "toself",
                  "name": "Cluster 1",
                  "r": [
                    0.6428571428571428,
                    0,
                    0.25,
                    0,
                    0.15000000000000002,
                    0.30000000000000004,
                    0.24999999999999994,
                    0,
                    0.1,
                    0.1640625
                  ],
                  "theta": [
                    "broccoli",
                    "brussels_sprouts",
                    "hamburger (meat)",
                    "oysters (raw)",
                    " onion (raw)",
                    "peas",
                    "olives",
                    "blue_cheese",
                    "whisky",
                    "age",
                    "cluster"
                  ],
                  "type": "scatterpolar"
                },
                {
                  "fill": "toself",
                  "name": "Cluster 2",
                  "r": [
                    0.5714285714285714,
                    0.5,
                    0.1,
                    0.15,
                    0.55,
                    0.75,
                    0.625,
                    0.375,
                    0.35000000000000003,
                    0.15234375
                  ],
                  "theta": [
                    "broccoli",
                    "brussels_sprouts",
                    "hamburger (meat)",
                    "oysters (raw)",
                    " onion (raw)",
                    "peas",
                    "olives",
                    "blue_cheese",
                    "whisky",
                    "age",
                    "cluster"
                  ],
                  "type": "scatterpolar"
                },
                {
                  "fill": "toself",
                  "name": "Cluster 3",
                  "r": [
                    0.9999999999999998,
                    1,
                    1,
                    1,
                    1,
                    0.40000000000000013,
                    0.33333333333333337,
                    1,
                    0,
                    0.078125
                  ],
                  "theta": [
                    "broccoli",
                    "brussels_sprouts",
                    "hamburger (meat)",
                    "oysters (raw)",
                    " onion (raw)",
                    "peas",
                    "olives",
                    "blue_cheese",
                    "whisky",
                    "age",
                    "cluster"
                  ],
                  "type": "scatterpolar"
                },
                {
                  "fill": "toself",
                  "name": "Cluster 4",
                  "r": [
                    0.09523809523809522,
                    0.43333333333333335,
                    0.8333333333333334,
                    0.7333333333333334,
                    0.7666666666666666,
                    0.5333333333333333,
                    0.7777777777777777,
                    0.8333333333333334,
                    0.8000000000000002,
                    0.3177083333333333
                  ],
                  "theta": [
                    "broccoli",
                    "brussels_sprouts",
                    "hamburger (meat)",
                    "oysters (raw)",
                    " onion (raw)",
                    "peas",
                    "olives",
                    "blue_cheese",
                    "whisky",
                    "age",
                    "cluster"
                  ],
                  "type": "scatterpolar"
                }
              ],
              "layout": {
                "height": 600,
                "polar": {
                  "radialaxis": {
                    "range": [
                      0,
                      1
                    ],
                    "visible": true
                  }
                },
                "showlegend": true,
                "template": {
                  "data": {
                    "bar": [
                      {
                        "error_x": {
                          "color": "#2a3f5f"
                        },
                        "error_y": {
                          "color": "#2a3f5f"
                        },
                        "marker": {
                          "line": {
                            "color": "#E5ECF6",
                            "width": 0.5
                          },
                          "pattern": {
                            "fillmode": "overlay",
                            "size": 10,
                            "solidity": 0.2
                          }
                        },
                        "type": "bar"
                      }
                    ],
                    "barpolar": [
                      {
                        "marker": {
                          "line": {
                            "color": "#E5ECF6",
                            "width": 0.5
                          },
                          "pattern": {
                            "fillmode": "overlay",
                            "size": 10,
                            "solidity": 0.2
                          }
                        },
                        "type": "barpolar"
                      }
                    ],
                    "carpet": [
                      {
                        "aaxis": {
                          "endlinecolor": "#2a3f5f",
                          "gridcolor": "white",
                          "linecolor": "white",
                          "minorgridcolor": "white",
                          "startlinecolor": "#2a3f5f"
                        },
                        "baxis": {
                          "endlinecolor": "#2a3f5f",
                          "gridcolor": "white",
                          "linecolor": "white",
                          "minorgridcolor": "white",
                          "startlinecolor": "#2a3f5f"
                        },
                        "type": "carpet"
                      }
                    ],
                    "choropleth": [
                      {
                        "colorbar": {
                          "outlinewidth": 0,
                          "ticks": ""
                        },
                        "type": "choropleth"
                      }
                    ],
                    "contour": [
                      {
                        "colorbar": {
                          "outlinewidth": 0,
                          "ticks": ""
                        },
                        "colorscale": [
                          [
                            0,
                            "#0d0887"
                          ],
                          [
                            0.1111111111111111,
                            "#46039f"
                          ],
                          [
                            0.2222222222222222,
                            "#7201a8"
                          ],
                          [
                            0.3333333333333333,
                            "#9c179e"
                          ],
                          [
                            0.4444444444444444,
                            "#bd3786"
                          ],
                          [
                            0.5555555555555556,
                            "#d8576b"
                          ],
                          [
                            0.6666666666666666,
                            "#ed7953"
                          ],
                          [
                            0.7777777777777778,
                            "#fb9f3a"
                          ],
                          [
                            0.8888888888888888,
                            "#fdca26"
                          ],
                          [
                            1,
                            "#f0f921"
                          ]
                        ],
                        "type": "contour"
                      }
                    ],
                    "contourcarpet": [
                      {
                        "colorbar": {
                          "outlinewidth": 0,
                          "ticks": ""
                        },
                        "type": "contourcarpet"
                      }
                    ],
                    "heatmap": [
                      {
                        "colorbar": {
                          "outlinewidth": 0,
                          "ticks": ""
                        },
                        "colorscale": [
                          [
                            0,
                            "#0d0887"
                          ],
                          [
                            0.1111111111111111,
                            "#46039f"
                          ],
                          [
                            0.2222222222222222,
                            "#7201a8"
                          ],
                          [
                            0.3333333333333333,
                            "#9c179e"
                          ],
                          [
                            0.4444444444444444,
                            "#bd3786"
                          ],
                          [
                            0.5555555555555556,
                            "#d8576b"
                          ],
                          [
                            0.6666666666666666,
                            "#ed7953"
                          ],
                          [
                            0.7777777777777778,
                            "#fb9f3a"
                          ],
                          [
                            0.8888888888888888,
                            "#fdca26"
                          ],
                          [
                            1,
                            "#f0f921"
                          ]
                        ],
                        "type": "heatmap"
                      }
                    ],
                    "heatmapgl": [
                      {
                        "colorbar": {
                          "outlinewidth": 0,
                          "ticks": ""
                        },
                        "colorscale": [
                          [
                            0,
                            "#0d0887"
                          ],
                          [
                            0.1111111111111111,
                            "#46039f"
                          ],
                          [
                            0.2222222222222222,
                            "#7201a8"
                          ],
                          [
                            0.3333333333333333,
                            "#9c179e"
                          ],
                          [
                            0.4444444444444444,
                            "#bd3786"
                          ],
                          [
                            0.5555555555555556,
                            "#d8576b"
                          ],
                          [
                            0.6666666666666666,
                            "#ed7953"
                          ],
                          [
                            0.7777777777777778,
                            "#fb9f3a"
                          ],
                          [
                            0.8888888888888888,
                            "#fdca26"
                          ],
                          [
                            1,
                            "#f0f921"
                          ]
                        ],
                        "type": "heatmapgl"
                      }
                    ],
                    "histogram": [
                      {
                        "marker": {
                          "pattern": {
                            "fillmode": "overlay",
                            "size": 10,
                            "solidity": 0.2
                          }
                        },
                        "type": "histogram"
                      }
                    ],
                    "histogram2d": [
                      {
                        "colorbar": {
                          "outlinewidth": 0,
                          "ticks": ""
                        },
                        "colorscale": [
                          [
                            0,
                            "#0d0887"
                          ],
                          [
                            0.1111111111111111,
                            "#46039f"
                          ],
                          [
                            0.2222222222222222,
                            "#7201a8"
                          ],
                          [
                            0.3333333333333333,
                            "#9c179e"
                          ],
                          [
                            0.4444444444444444,
                            "#bd3786"
                          ],
                          [
                            0.5555555555555556,
                            "#d8576b"
                          ],
                          [
                            0.6666666666666666,
                            "#ed7953"
                          ],
                          [
                            0.7777777777777778,
                            "#fb9f3a"
                          ],
                          [
                            0.8888888888888888,
                            "#fdca26"
                          ],
                          [
                            1,
                            "#f0f921"
                          ]
                        ],
                        "type": "histogram2d"
                      }
                    ],
                    "histogram2dcontour": [
                      {
                        "colorbar": {
                          "outlinewidth": 0,
                          "ticks": ""
                        },
                        "colorscale": [
                          [
                            0,
                            "#0d0887"
                          ],
                          [
                            0.1111111111111111,
                            "#46039f"
                          ],
                          [
                            0.2222222222222222,
                            "#7201a8"
                          ],
                          [
                            0.3333333333333333,
                            "#9c179e"
                          ],
                          [
                            0.4444444444444444,
                            "#bd3786"
                          ],
                          [
                            0.5555555555555556,
                            "#d8576b"
                          ],
                          [
                            0.6666666666666666,
                            "#ed7953"
                          ],
                          [
                            0.7777777777777778,
                            "#fb9f3a"
                          ],
                          [
                            0.8888888888888888,
                            "#fdca26"
                          ],
                          [
                            1,
                            "#f0f921"
                          ]
                        ],
                        "type": "histogram2dcontour"
                      }
                    ],
                    "mesh3d": [
                      {
                        "colorbar": {
                          "outlinewidth": 0,
                          "ticks": ""
                        },
                        "type": "mesh3d"
                      }
                    ],
                    "parcoords": [
                      {
                        "line": {
                          "colorbar": {
                            "outlinewidth": 0,
                            "ticks": ""
                          }
                        },
                        "type": "parcoords"
                      }
                    ],
                    "pie": [
                      {
                        "automargin": true,
                        "type": "pie"
                      }
                    ],
                    "scatter": [
                      {
                        "fillpattern": {
                          "fillmode": "overlay",
                          "size": 10,
                          "solidity": 0.2
                        },
                        "type": "scatter"
                      }
                    ],
                    "scatter3d": [
                      {
                        "line": {
                          "colorbar": {
                            "outlinewidth": 0,
                            "ticks": ""
                          }
                        },
                        "marker": {
                          "colorbar": {
                            "outlinewidth": 0,
                            "ticks": ""
                          }
                        },
                        "type": "scatter3d"
                      }
                    ],
                    "scattercarpet": [
                      {
                        "marker": {
                          "colorbar": {
                            "outlinewidth": 0,
                            "ticks": ""
                          }
                        },
                        "type": "scattercarpet"
                      }
                    ],
                    "scattergeo": [
                      {
                        "marker": {
                          "colorbar": {
                            "outlinewidth": 0,
                            "ticks": ""
                          }
                        },
                        "type": "scattergeo"
                      }
                    ],
                    "scattergl": [
                      {
                        "marker": {
                          "colorbar": {
                            "outlinewidth": 0,
                            "ticks": ""
                          }
                        },
                        "type": "scattergl"
                      }
                    ],
                    "scattermapbox": [
                      {
                        "marker": {
                          "colorbar": {
                            "outlinewidth": 0,
                            "ticks": ""
                          }
                        },
                        "type": "scattermapbox"
                      }
                    ],
                    "scatterpolar": [
                      {
                        "marker": {
                          "colorbar": {
                            "outlinewidth": 0,
                            "ticks": ""
                          }
                        },
                        "type": "scatterpolar"
                      }
                    ],
                    "scatterpolargl": [
                      {
                        "marker": {
                          "colorbar": {
                            "outlinewidth": 0,
                            "ticks": ""
                          }
                        },
                        "type": "scatterpolargl"
                      }
                    ],
                    "scatterternary": [
                      {
                        "marker": {
                          "colorbar": {
                            "outlinewidth": 0,
                            "ticks": ""
                          }
                        },
                        "type": "scatterternary"
                      }
                    ],
                    "surface": [
                      {
                        "colorbar": {
                          "outlinewidth": 0,
                          "ticks": ""
                        },
                        "colorscale": [
                          [
                            0,
                            "#0d0887"
                          ],
                          [
                            0.1111111111111111,
                            "#46039f"
                          ],
                          [
                            0.2222222222222222,
                            "#7201a8"
                          ],
                          [
                            0.3333333333333333,
                            "#9c179e"
                          ],
                          [
                            0.4444444444444444,
                            "#bd3786"
                          ],
                          [
                            0.5555555555555556,
                            "#d8576b"
                          ],
                          [
                            0.6666666666666666,
                            "#ed7953"
                          ],
                          [
                            0.7777777777777778,
                            "#fb9f3a"
                          ],
                          [
                            0.8888888888888888,
                            "#fdca26"
                          ],
                          [
                            1,
                            "#f0f921"
                          ]
                        ],
                        "type": "surface"
                      }
                    ],
                    "table": [
                      {
                        "cells": {
                          "fill": {
                            "color": "#EBF0F8"
                          },
                          "line": {
                            "color": "white"
                          }
                        },
                        "header": {
                          "fill": {
                            "color": "#C8D4E3"
                          },
                          "line": {
                            "color": "white"
                          }
                        },
                        "type": "table"
                      }
                    ]
                  },
                  "layout": {
                    "annotationdefaults": {
                      "arrowcolor": "#2a3f5f",
                      "arrowhead": 0,
                      "arrowwidth": 1
                    },
                    "autotypenumbers": "strict",
                    "coloraxis": {
                      "colorbar": {
                        "outlinewidth": 0,
                        "ticks": ""
                      }
                    },
                    "colorscale": {
                      "diverging": [
                        [
                          0,
                          "#8e0152"
                        ],
                        [
                          0.1,
                          "#c51b7d"
                        ],
                        [
                          0.2,
                          "#de77ae"
                        ],
                        [
                          0.3,
                          "#f1b6da"
                        ],
                        [
                          0.4,
                          "#fde0ef"
                        ],
                        [
                          0.5,
                          "#f7f7f7"
                        ],
                        [
                          0.6,
                          "#e6f5d0"
                        ],
                        [
                          0.7,
                          "#b8e186"
                        ],
                        [
                          0.8,
                          "#7fbc41"
                        ],
                        [
                          0.9,
                          "#4d9221"
                        ],
                        [
                          1,
                          "#276419"
                        ]
                      ],
                      "sequential": [
                        [
                          0,
                          "#0d0887"
                        ],
                        [
                          0.1111111111111111,
                          "#46039f"
                        ],
                        [
                          0.2222222222222222,
                          "#7201a8"
                        ],
                        [
                          0.3333333333333333,
                          "#9c179e"
                        ],
                        [
                          0.4444444444444444,
                          "#bd3786"
                        ],
                        [
                          0.5555555555555556,
                          "#d8576b"
                        ],
                        [
                          0.6666666666666666,
                          "#ed7953"
                        ],
                        [
                          0.7777777777777778,
                          "#fb9f3a"
                        ],
                        [
                          0.8888888888888888,
                          "#fdca26"
                        ],
                        [
                          1,
                          "#f0f921"
                        ]
                      ],
                      "sequentialminus": [
                        [
                          0,
                          "#0d0887"
                        ],
                        [
                          0.1111111111111111,
                          "#46039f"
                        ],
                        [
                          0.2222222222222222,
                          "#7201a8"
                        ],
                        [
                          0.3333333333333333,
                          "#9c179e"
                        ],
                        [
                          0.4444444444444444,
                          "#bd3786"
                        ],
                        [
                          0.5555555555555556,
                          "#d8576b"
                        ],
                        [
                          0.6666666666666666,
                          "#ed7953"
                        ],
                        [
                          0.7777777777777778,
                          "#fb9f3a"
                        ],
                        [
                          0.8888888888888888,
                          "#fdca26"
                        ],
                        [
                          1,
                          "#f0f921"
                        ]
                      ]
                    },
                    "colorway": [
                      "#636efa",
                      "#EF553B",
                      "#00cc96",
                      "#ab63fa",
                      "#FFA15A",
                      "#19d3f3",
                      "#FF6692",
                      "#B6E880",
                      "#FF97FF",
                      "#FECB52"
                    ],
                    "font": {
                      "color": "#2a3f5f"
                    },
                    "geo": {
                      "bgcolor": "white",
                      "lakecolor": "white",
                      "landcolor": "#E5ECF6",
                      "showlakes": true,
                      "showland": true,
                      "subunitcolor": "white"
                    },
                    "hoverlabel": {
                      "align": "left"
                    },
                    "hovermode": "closest",
                    "mapbox": {
                      "style": "light"
                    },
                    "paper_bgcolor": "white",
                    "plot_bgcolor": "#E5ECF6",
                    "polar": {
                      "angularaxis": {
                        "gridcolor": "white",
                        "linecolor": "white",
                        "ticks": ""
                      },
                      "bgcolor": "#E5ECF6",
                      "radialaxis": {
                        "gridcolor": "white",
                        "linecolor": "white",
                        "ticks": ""
                      }
                    },
                    "scene": {
                      "xaxis": {
                        "backgroundcolor": "#E5ECF6",
                        "gridcolor": "white",
                        "gridwidth": 2,
                        "linecolor": "white",
                        "showbackground": true,
                        "ticks": "",
                        "zerolinecolor": "white"
                      },
                      "yaxis": {
                        "backgroundcolor": "#E5ECF6",
                        "gridcolor": "white",
                        "gridwidth": 2,
                        "linecolor": "white",
                        "showbackground": true,
                        "ticks": "",
                        "zerolinecolor": "white"
                      },
                      "zaxis": {
                        "backgroundcolor": "#E5ECF6",
                        "gridcolor": "white",
                        "gridwidth": 2,
                        "linecolor": "white",
                        "showbackground": true,
                        "ticks": "",
                        "zerolinecolor": "white"
                      }
                    },
                    "shapedefaults": {
                      "line": {
                        "color": "#2a3f5f"
                      }
                    },
                    "ternary": {
                      "aaxis": {
                        "gridcolor": "white",
                        "linecolor": "white",
                        "ticks": ""
                      },
                      "baxis": {
                        "gridcolor": "white",
                        "linecolor": "white",
                        "ticks": ""
                      },
                      "bgcolor": "#E5ECF6",
                      "caxis": {
                        "gridcolor": "white",
                        "linecolor": "white",
                        "ticks": ""
                      }
                    },
                    "title": {
                      "x": 0.05
                    },
                    "xaxis": {
                      "automargin": true,
                      "gridcolor": "white",
                      "linecolor": "white",
                      "ticks": "",
                      "title": {
                        "standoff": 15
                      },
                      "zerolinecolor": "white",
                      "zerolinewidth": 2
                    },
                    "yaxis": {
                      "automargin": true,
                      "gridcolor": "white",
                      "linecolor": "white",
                      "ticks": "",
                      "title": {
                        "standoff": 15
                      },
                      "zerolinecolor": "white",
                      "zerolinewidth": 2
                    }
                  }
                },
                "title": {
                  "text": "Radar chart of mean food preferences by cluster"
                },
                "width": 800
              }
            }
          },
          "metadata": {},
          "output_type": "display_data"
        }
      ],
      "source": [
        "# Create an empty list to store the Scatterpolar object of each cluster\n",
        "scatter_objects = []\n",
        "\n",
        "# State the label for each arm of the chart\n",
        "categories = scaled_features_df.columns\n",
        "\n",
        "# Iterate over the unique clusters and add an object for each cluster to the list\n",
        "for cluster in sorted(scaled_features_df['cluster'].unique()):\n",
        "\n",
        "  # Find the mean value for each column of the cluster\n",
        "  cluster_means = [scaled_features_df.loc[scaled_features_df[\"cluster\"] == cluster, scaled_features_df.columns[0]].mean(),\n",
        "                  scaled_features_df.loc[scaled_features_df[\"cluster\"] == cluster, scaled_features_df.columns[1]].mean(),\n",
        "                  scaled_features_df.loc[scaled_features_df[\"cluster\"] == cluster, scaled_features_df.columns[2]].mean(),\n",
        "                  scaled_features_df.loc[scaled_features_df[\"cluster\"] == cluster, scaled_features_df.columns[3]].mean(),\n",
        "                  scaled_features_df.loc[scaled_features_df[\"cluster\"] == cluster, scaled_features_df.columns[4]].mean(),\n",
        "                  scaled_features_df.loc[scaled_features_df[\"cluster\"] == cluster, scaled_features_df.columns[5]].mean(),\n",
        "                  scaled_features_df.loc[scaled_features_df[\"cluster\"] == cluster, scaled_features_df.columns[6]].mean(),\n",
        "                  scaled_features_df.loc[scaled_features_df[\"cluster\"] == cluster, scaled_features_df.columns[7]].mean(),\n",
        "                  scaled_features_df.loc[scaled_features_df[\"cluster\"] == cluster, scaled_features_df.columns[8]].mean(),\n",
        "                  scaled_features_df.loc[scaled_features_df[\"cluster\"] == cluster, scaled_features_df.columns[9]].mean()]\n",
        "                  # Bonus: see if you can turn this code for `cluster_means` into a list comprehension\n",
        "\n",
        "  # Create a Scatterpolar object for the cluster\n",
        "  cluster_scatter = go.Scatterpolar(\n",
        "    r = cluster_means, # set the radial coordinates\n",
        "    theta = categories, # the names of the columns\n",
        "    fill = 'toself', # fills in the space with colour\n",
        "    name = f'Cluster {cluster}' # adds the name of the cluster\n",
        "  )\n",
        "\n",
        "  # Add the Scatterpolar object to the list\n",
        "  scatter_objects.append(cluster_scatter)\n",
        "\n",
        "# Create the figure (the white area)\n",
        "fig = go.Figure()\n",
        "\n",
        "# Add the scatter objects to the figure\n",
        "fig.add_traces(scatter_objects)\n",
        "\n",
        "# Add extras to the plot, such as title\n",
        "fig.update_layout(\n",
        "  title_text = 'Radar chart of mean food preferences by cluster',\n",
        "  height = 600,\n",
        "  width = 800,\n",
        "  polar = dict(\n",
        "    radialaxis = dict(\n",
        "      visible = True, # visibility of the numbers on the arm\n",
        "      range = [0, 1] # scale of the plot\n",
        "    )),\n",
        "  showlegend = True\n",
        ")\n",
        "\n",
        "# Show the initialised plot and the trace objects\n",
        "fig.show()"
      ]
    },
    {
      "cell_type": "markdown",
      "metadata": {
        "id": "XjC59rOxZPRR"
      },
      "source": [
        "---\n",
        "## 5.&nbsp; Challenge: apply this to the spotify dataset 😃\n",
        "Now that you have learned how to estimate the optimal number of clusters, it's time to apply this knowledge to the Spotify data. Determine the number of clusters that you think is correct, apply it to the data, and evaluate the resulting clusters.\n",
        "\n",
        "To evaluate the clusters, consider the business context. We want the clusters to be coherent playlists that customers will be happy with. For example, would most customers be happy with a couple of death metal tracks interrupting their classical playlist? Or would customers be happy with \"Clair de lune\" in the middle of a high-energy workout playlist? Listen to the tracks, look at the names, and get a feel for what's happening.\n",
        "\n",
        "Also, feel free to be creative in how you think you can decide whether the tracks in each cluster go together or not."
      ]
    }
  ],
  "metadata": {
    "colab": {
      "include_colab_link": true,
      "provenance": [],
      "toc_visible": true
    },
    "kernelspec": {
      "display_name": "base",
      "language": "python",
      "name": "python3"
    },
    "language_info": {
      "codemirror_mode": {
        "name": "ipython",
        "version": 3
      },
      "file_extension": ".py",
      "mimetype": "text/x-python",
      "name": "python",
      "nbconvert_exporter": "python",
      "pygments_lexer": "ipython3",
      "version": "3.12.4"
    }
  },
  "nbformat": 4,
  "nbformat_minor": 0
}
